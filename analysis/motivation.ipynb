{
 "cells": [
  {
   "cell_type": "markdown",
   "metadata": {},
   "source": [
    "# Motivation\n",
    "\n",
    "**authors:** Joseph Marcus, Hussein Al-Asadi"
   ]
  },
  {
   "cell_type": "markdown",
   "metadata": {},
   "source": [
    "We're interested in addressing population continuity through time in population genetic / ancient DNA data. A great starting place to tackle this problem is to visualize the data! To this end we'd like to visualize the variogram for our data. Ideally, for each individual we would observe the age of the sample $t_i$ and their genotype at a single position in the genome $g_i$. The variogram is a plot of the expected genetic distance versus time lag for a pair of samples \n",
    "\n",
    "$$ \n",
    "E\\big((g_i - g_j)^2\\big) \\text{   vs.   } |t_i - t_j|\n",
    "$$\n",
    "\n",
    "$$\n",
    "g_i \\in \\{0,1,2\\}\n",
    "$$\n",
    "\n",
    "to be clear we assume there are two alleles ($A$, $a$) at this location and $g_i$ denotes the count of the $A$ allele in sample $i$."
   ]
  },
  {
   "cell_type": "markdown",
   "metadata": {},
   "source": [
    "However, in our data we don't observe genotypes, we observe sequence reads. To start, here we show a overly simple model to generate data"
   ]
  },
  {
   "cell_type": "markdown",
   "metadata": {},
   "source": [
    "$$\n",
    "\\begin{aligned}\n",
    "p(g_i = k) &= \\frac{1}{3}, k = \\{0, 1, 2\\} \\\\\n",
    "y_i | g_i &\\sim Binomial\\big(c_{i}, \\frac{g_i}{2}\\big)\n",
    "\\end{aligned}\n",
    "$$"
   ]
  },
  {
   "cell_type": "markdown",
   "metadata": {},
   "source": [
    "Here $y_i$ denotes the count of reads carrying the $A$ allele and $c_i$ is the observed total number of reads. Typically $c_i$ is 0 i.e. there is a lot of missing data. Now we can get some traction in visualizing the variogram by conditioning on the data we observe\n",
    "\n",
    "$$\n",
    "E\\big((g_i - g_j)^2 | y_i, y_j\\big) = \\sum_{g_i \\in \\{0, 1, 2\\}} \\sum_{g_j \\in \\{0, 1, 2\\}} (g_i - g_j)^2 p(g_i, g_j) = \\sum_{g_i \\in \\{0, 1, 2\\}} \\sum_{g_j \\in \\{0, 1, 2\\}} (g_i - g_j)^2 p(g_i) p(g_j)\n",
    "$$"
   ]
  },
  {
   "cell_type": "markdown",
   "metadata": {},
   "source": [
    "**show plots!**"
   ]
  },
  {
   "cell_type": "markdown",
   "metadata": {},
   "source": [
    "Of course, we'd like to use our biological knowledge of the generative process, particularly the fact that two individuals sampled close in time should have more similar genotypes than two people sampled far apart in time. Now, let $\\mathbf{f}(\\mathbf{t})$ be the frequency of the $A$ allele for the $n$ samples observed at different time points. \n",
    "\n",
    "A standard model for the allele frequencies is \n",
    "\n",
    "$$\n",
    "\\mathbf{f}(\\mathbf{t}) | \\mu, \\theta \\sim \\mathcal{N}\\big(\\mathbf{\\mu}, \\mathbf{\\Sigma}(\\mathbf{t}; \\theta)\\big)\n",
    "$$\n",
    "\n",
    "Given these frequencies we can make some simplifying approximations to estimate the variogram\n",
    "\n",
    "$$\n",
    "\\begin{aligned}\n",
    "\\mathbf{g} | \\mathbf{f}(\\mathbf{t}) &\\sim \\mathcal{N}\\Bigg(2\\mathbf{f}(\\mathbf{t}), diag\\Big(2\\mathbf{f}(\\mathbf{t}) \\odot \\big(\\mathbf{1}-\\mathbf{f}(\\mathbf{t})\\big)\\Big)\\Bigg) \\\\ \n",
    "y_i | \\tilde{g}_i &\\sim Binomial\\Big(c_i, \\frac{\\tilde{g}_i}{2}\\Big)\n",
    "\\end{aligned}\n",
    "$$"
   ]
  },
  {
   "cell_type": "markdown",
   "metadata": {},
   "source": [
    "where $\\tilde{g}_i \\in \\{0, 1, 2\\}$ denotes the rounded genotype and $\\odot$ represents element wise multiplication. *See Wen and Stephens 2010 for inspiration on the normal approximation to the genotypes and rounding trick.* Recall, we are not interested in estimating $\\mathbf{f}(\\mathbf{t})$ so we integrate out of the model\n",
    "\n",
    "$$\n",
    "\\mathbf{g} | \\mu, \\theta \\sim \\mathcal{N}\\Big(2\\mu, \\Phi(\\mathbf{t}; \\theta)\\Big)\n",
    "$$\n",
    "\n",
    "where $\\Phi(\\mathbf{t}; \\theta) = Var\\Big(\\mathbb{E}\\big(\\mathbf{g} | \\mathbf{f}(\\mathbf{t})\\big)\\Big) + \\mathbb{E}\\Big(Var\\big(\\mathbf{g} | \\mathbf{f}(\\mathbf{t})\\big)\\Big)$. Rewriting our marginal model \n",
    "\n",
    "$$\n",
    "\\begin{aligned}\n",
    "\\mathbf{g} | \\mu, \\theta &\\sim \\mathcal{N}\\Big(2\\mu, \\Phi(\\mathbf{t}; \\theta)\\Big) \\\\\n",
    "y_i | \\tilde{g}_i &\\sim Binomial\\Big(c_i, \\frac{\\tilde{g}_i}{2}\\Big)\n",
    "\\end{aligned}\n",
    "$$\n",
    "\n",
    "Now we would like to estimate our model parameters $\\mu$ and $\\theta$ by maximum likelihood. We can maximize the marginal likelihood, however this requires a sum over the discretized genotypes which is computationally intractable \n",
    "\n",
    "$$\n",
    "\\begin{aligned}\n",
    "p(\\mathbf{y} | \\mu, \\theta) &= \\sum_\\tilde{\\mathbf{g}} p(\\mathbf{y} | \\tilde{\\mathbf{g}}, \\mu, \\theta) p(\\tilde{\\mathbf{g}} | \\mu, \\theta) \\\\\n",
    "&= \\sum_\\tilde{\\mathbf{g}} \\prod_{i=1}^n p(y_i|\\tilde{g}_i, \\mu, \\theta)p(\\tilde{\\mathbf{g}} | \\mu, \\theta) \n",
    "\\end{aligned}\n",
    "$$\n",
    "\n",
    "Note that the sum over the rounded genotype will have $3^n$ terms! Thus it is intractable for any reasonable data. Therefore we need to come up with a another strategy to compute or approximate the marginal likelihood. Note that\n",
    "\n",
    "$$\n",
    "\\sum_\\tilde{\\mathbf{g}} \\prod_{i=1}^n p(y_i|\\tilde{g}_i, \\mu, \\theta)p(\\tilde{\\mathbf{g}} | \\mu, \\theta) = E_{\\tilde{\\mathbf{g}}}\\Big(\\prod_{i=1}^n p(y_i|\\tilde{g}_i, \\mu, \\theta)\\Big)\n",
    "$$\n",
    "\n",
    "Perhaps this motivates a monte carlo approach to estimate this expectation."
   ]
  },
  {
   "cell_type": "code",
   "execution_count": null,
   "metadata": {},
   "outputs": [],
   "source": []
  }
 ],
 "metadata": {
  "kernelspec": {
   "display_name": "Python 3",
   "language": "python",
   "name": "python3"
  },
  "language_info": {
   "codemirror_mode": {
    "name": "ipython",
    "version": 3
   },
   "file_extension": ".py",
   "mimetype": "text/x-python",
   "name": "python",
   "nbconvert_exporter": "python",
   "pygments_lexer": "ipython3",
   "version": "3.6.4"
  }
 },
 "nbformat": 4,
 "nbformat_minor": 2
}
