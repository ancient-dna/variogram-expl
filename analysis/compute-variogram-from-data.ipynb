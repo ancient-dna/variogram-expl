{
 "cells": [
  {
   "cell_type": "code",
   "execution_count": 1,
   "metadata": {},
   "outputs": [],
   "source": [
    "import pysam\n",
    "import numpy as np\n",
    "import matplotlib.pyplot as plt"
   ]
  },
  {
   "cell_type": "code",
   "execution_count": 3,
   "metadata": {},
   "outputs": [],
   "source": [
    "vcf = pysam.VariantFile('/project/jnovembre/jhmarcus/ancient-sardinia/output/vcf/ancient_sardinia_full26_trm.vcf.gz')"
   ]
  },
  {
   "cell_type": "code",
   "execution_count": 4,
   "metadata": {},
   "outputs": [],
   "source": [
    "samples = list(vcf.header.samples)\n",
    "#cnt = 0\n",
    "#for rec in vcf.fetch():\n",
    "#    cnt += 1\n",
    "#nsnps = cnt\n",
    "nsnps = 1151240"
   ]
  },
  {
   "cell_type": "code",
   "execution_count": 6,
   "metadata": {},
   "outputs": [
    {
     "name": "stdout",
     "output_type": "stream",
     "text": [
      "(26, 1151240)\n"
     ]
    }
   ],
   "source": [
    "shape = (len(samples), nsnps)\n",
    "l_00 = np.zeros(shape)\n",
    "l_01 = np.zeros(shape)\n",
    "l_11 = np.zeros(shape)\n",
    "print(shape)"
   ]
  },
  {
   "cell_type": "code",
   "execution_count": 7,
   "metadata": {},
   "outputs": [],
   "source": [
    "j = 0\n",
    "for rec in vcf.fetch():\n",
    "    for s in range(len(samples)):\n",
    "        l_00[s, j] = rec.samples[samples[s]][\"GL\"][0]\n",
    "        l_01[s, j] = rec.samples[samples[s]][\"GL\"][1]\n",
    "        l_11[s, j] = rec.samples[samples[s]][\"GL\"][2]\n",
    "    j += 1"
   ]
  },
  {
   "cell_type": "code",
   "execution_count": 8,
   "metadata": {},
   "outputs": [],
   "source": [
    "p_00 = np.power(10, l_00)\n",
    "p_01 = np.power(10, l_01)\n",
    "p_11 = np.power(10, l_11)"
   ]
  },
  {
   "cell_type": "code",
   "execution_count": 9,
   "metadata": {},
   "outputs": [
    {
     "data": {
      "text/plain": [
       "3723730"
      ]
     },
     "execution_count": 9,
     "metadata": {},
     "output_type": "execute_result"
    }
   ],
   "source": [
    "P = np.zeros(shape = (len(samples), nsnps, 3))\n",
    "P[:,:,0] = p_00 / (p_00 + p_01 + p_11)\n",
    "P[:,:,1] = p_01 / (p_00 + p_01 + p_11)\n",
    "P[:,:,2] = p_11 / (p_00 + p_01 + p_11)\n",
    "\n",
    "# check number of SNPs\n",
    "(P[:,:,0] > 0.8).sum() + (P[:,:,1] > 0.8).sum() + (P[:,:,2] > 0.8).sum()"
   ]
  },
  {
   "cell_type": "code",
   "execution_count": 10,
   "metadata": {},
   "outputs": [],
   "source": [
    "%load_ext Cython"
   ]
  },
  {
   "cell_type": "code",
   "execution_count": 13,
   "metadata": {},
   "outputs": [],
   "source": [
    "%%cython\n",
    "\n",
    "cimport cython\n",
    "import numpy as np\n",
    "cimport numpy as np\n",
    "\n",
    "@cython.boundscheck(False)\n",
    "@cython.wraparound(False)\n",
    "cpdef double compute_distance(int i, int j, double[:, :, :] P):\n",
    "    cdef double d = 0.0\n",
    "    cdef int nsnps = P.shape[1]\n",
    "    cdef int l  = 0\n",
    "    cdef int k1 = 0\n",
    "    cdef int k2 = 0\n",
    "    for l in range(nsnps):\n",
    "         for k1 in [0,1,2]:\n",
    "            for k2 in [0,1,2]:\n",
    "                d += (k1-k2)*(k1-k2) * P[i, l, k1] * P[j, l, k2]\n",
    "                \n",
    "    return(d)"
   ]
  },
  {
   "cell_type": "code",
   "execution_count": 25,
   "metadata": {},
   "outputs": [],
   "source": [
    "D = np.zeros(shape = (len(samples), len(samples)))\n",
    "for i in range(len(samples)):\n",
    "    for j in range(i, len(samples)):\n",
    "            D[i,j] = compute_distance(i,j, P)\n",
    "            D[j,i] = D[i,j]\n",
    "D = D / nsnps"
   ]
  },
  {
   "cell_type": "code",
   "execution_count": 26,
   "metadata": {},
   "outputs": [
    {
     "data": {
      "text/plain": [
       "(array([ 1.,  0.,  0.,  0.,  0.,  0.,  1.,  7.,  2., 15.]),\n",
       " array([1.19114256, 1.20590084, 1.22065912, 1.23541741, 1.25017569,\n",
       "        1.26493397, 1.27969226, 1.29445054, 1.30920883, 1.32396711,\n",
       "        1.33872539]),\n",
       " <a list of 10 Patch objects>)"
      ]
     },
     "execution_count": 26,
     "metadata": {},
     "output_type": "execute_result"
    },
    {
     "data": {
      "image/png": "[encoded data removed]",
      "text/plain": [
       "<matplotlib.figure.Figure at 0x2b583b8e0048>"
      ]
     },
     "metadata": {},
     "output_type": "display_data"
    }
   ],
   "source": [
    "plt.hist(D[1,])"
   ]
  },
  {
   "cell_type": "code",
   "execution_count": 32,
   "metadata": {},
   "outputs": [],
   "source": [
    "np.savetxt('anc_sards.diffs', D, delimiter=',', fmt='%1.3f')"
   ]
  },
  {
   "cell_type": "code",
   "execution_count": 33,
   "metadata": {},
   "outputs": [],
   "source": [
    "outfile = open('anc_sards.id', 'w')\n",
    "outfile.write(\"\\n\".join(samples))\n",
    "outfile.close()"
   ]
  }
 ],
 "metadata": {
  "kernelspec": {
   "display_name": "Python 3",
   "language": "python",
   "name": "python3"
  },
  "language_info": {
   "codemirror_mode": {
    "name": "ipython",
    "version": 3
   },
   "file_extension": ".py",
   "mimetype": "text/x-python",
   "name": "python",
   "nbconvert_exporter": "python",
   "pygments_lexer": "ipython3",
   "version": "3.6.4"
  }
 },
 "nbformat": 4,
 "nbformat_minor": 2
}
