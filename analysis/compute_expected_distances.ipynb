{
 "cells": [
  {
   "cell_type": "code",
   "execution_count": 1,
   "metadata": {},
   "outputs": [],
   "source": [
    "import pysam\n",
    "import numpy as np\n",
    "from scipy import optimize\n",
    "import matplotlib.pyplot as plt"
   ]
  },
  {
   "cell_type": "code",
   "execution_count": 2,
   "metadata": {},
   "outputs": [],
   "source": [
    "vcf = pysam.VariantFile('/project/jnovembre/jhmarcus/ancient-sardinia/output/vcf/ancient_sardinia_full26_trm.vcf.gz')"
   ]
  },
  {
   "cell_type": "code",
   "execution_count": 3,
   "metadata": {},
   "outputs": [],
   "source": [
    "samples = list(vcf.header.samples)\n",
    "cnt = 0\n",
    "for rec in vcf.fetch():\n",
    "    cnt += 1\n",
    "nsnps = cnt"
   ]
  },
  {
   "cell_type": "code",
   "execution_count": 16,
   "metadata": {},
   "outputs": [],
   "source": [
    "l = (1/3) * np.ones(shape = (len(samples), nsnps, 3))"
   ]
  },
  {
   "cell_type": "code",
   "execution_count": 5,
   "metadata": {},
   "outputs": [],
   "source": [
    "# j index SNP\n",
    "shape = (len(samples), nsnps)\n",
    "mask = np.ones(shape)\n",
    "j = 0\n",
    "eps = 0.001\n",
    "for rec in vcf.fetch():\n",
    "    for s in range(len(samples)):\n",
    "        ref = rec.samples[samples[s]][\"AD\"][0]\n",
    "        alt = rec.samples[samples[s]][\"AD\"][1]\n",
    "        for g in [0,1,2]:\n",
    "            p        = (1-eps)*(g/2)   + eps*(1-g/2)\n",
    "            l[s,j,g] = alt*np.log10(p) + ref*np.log10(1-p)\n",
    "    j += 1"
   ]
  },
  {
   "cell_type": "code",
   "execution_count": 10,
   "metadata": {},
   "outputs": [],
   "source": [
    "def compute_gradient(f, refs, alts, eps = 0.01):\n",
    "    dl = 0\n",
    "    for i in range(len(refs)):\n",
    "        num   = 2*f * np.power(1-eps, alts[i]) * np.power(eps,refs[i]) + \\\n",
    "        2*(1-2*f)*np.power(0.5, alts[i])*np.power(0.5, refs[i]) + \\\n",
    "        (2*f-2) * np.power(eps, alts[i]) * np.power(1-eps, refs[i])\n",
    "        \n",
    "        denom = np.power(f, 2) * np.power(1-eps, alts[i]) * np.power(eps, refs[i]) + \\\n",
    "        2*f*(1-f)*np.power(0.5, alts[i])*np.power(0.5, refs[i]) + \\\n",
    "        np.power(1-f, 2) * np.power(eps, alts[i]) * np.power(1-eps, refs[i])\n",
    "        dl = dl + (num/denom)\n",
    "    return(dl)\n",
    "\n",
    "def compute_loglikelihood(f, refs, alts, eps = 0.01):\n",
    "    ll = 0\n",
    "    for i in range(len(refs)):\n",
    "        ll += np.log( np.power(f, 2)*np.power(1-eps, alts[i])*np.power(eps, refs[i]) + \\\n",
    "                    2*f*(1-f)*np.power(0.5, alts[i])*np.power(0.5, refs[i]) + \\\n",
    "                    np.power(1-f, 2) * np.power(eps, alts[i]) * np.power(1-eps, refs[i]))\n",
    "    return(ll)"
   ]
  },
  {
   "cell_type": "code",
   "execution_count": 11,
   "metadata": {},
   "outputs": [
    {
     "name": "stdout",
     "output_type": "stream",
     "text": [
      "0.5409429060313207\n"
     ]
    }
   ],
   "source": [
    "# testing\n",
    "c   = np.random.poisson(1, 20)\n",
    "alt = np.random.binomial(n = c, p = 0.5, size = 20)\n",
    "ref = c - alt\n",
    "root = optimize.brentq(compute_gradient, a=0, b=1, args = (ref,alt), xtol = 0.025)\n",
    "print(root)"
   ]
  },
  {
   "cell_type": "code",
   "execution_count": 6,
   "metadata": {},
   "outputs": [],
   "source": [
    "frequencies = np.ones(nsnps)*0.5"
   ]
  },
  {
   "cell_type": "code",
   "execution_count": 13,
   "metadata": {},
   "outputs": [
    {
     "ename": "ValueError",
     "evalue": "f(a) and f(b) must have different signs",
     "output_type": "error",
     "traceback": [
      "\u001b[0;31m---------------------------------------------------------------------------\u001b[0m",
      "\u001b[0;31mValueError\u001b[0m                                Traceback (most recent call last)",
      "\u001b[0;32m<ipython-input-13-3b86374fb662>\u001b[0m in \u001b[0;36m<module>\u001b[0;34m()\u001b[0m\n\u001b[1;32m      6\u001b[0m         \u001b[0mrefs\u001b[0m\u001b[0;34m[\u001b[0m\u001b[0ms\u001b[0m\u001b[0;34m]\u001b[0m \u001b[0;34m=\u001b[0m \u001b[0mrec\u001b[0m\u001b[0;34m.\u001b[0m\u001b[0msamples\u001b[0m\u001b[0;34m[\u001b[0m\u001b[0msamples\u001b[0m\u001b[0;34m[\u001b[0m\u001b[0ms\u001b[0m\u001b[0;34m]\u001b[0m\u001b[0;34m]\u001b[0m\u001b[0;34m[\u001b[0m\u001b[0;34m\"AD\"\u001b[0m\u001b[0;34m]\u001b[0m\u001b[0;34m[\u001b[0m\u001b[0;36m0\u001b[0m\u001b[0;34m]\u001b[0m\u001b[0;34m\u001b[0m\u001b[0m\n\u001b[1;32m      7\u001b[0m         \u001b[0malts\u001b[0m\u001b[0;34m[\u001b[0m\u001b[0ms\u001b[0m\u001b[0;34m]\u001b[0m \u001b[0;34m=\u001b[0m \u001b[0mrec\u001b[0m\u001b[0;34m.\u001b[0m\u001b[0msamples\u001b[0m\u001b[0;34m[\u001b[0m\u001b[0msamples\u001b[0m\u001b[0;34m[\u001b[0m\u001b[0ms\u001b[0m\u001b[0;34m]\u001b[0m\u001b[0;34m]\u001b[0m\u001b[0;34m[\u001b[0m\u001b[0;34m\"AD\"\u001b[0m\u001b[0;34m]\u001b[0m\u001b[0;34m[\u001b[0m\u001b[0;36m1\u001b[0m\u001b[0;34m]\u001b[0m\u001b[0;34m\u001b[0m\u001b[0m\n\u001b[0;32m----> 8\u001b[0;31m     \u001b[0mphat\u001b[0m \u001b[0;34m=\u001b[0m \u001b[0moptimize\u001b[0m\u001b[0;34m.\u001b[0m\u001b[0mbrentq\u001b[0m\u001b[0;34m(\u001b[0m\u001b[0mcompute_gradient\u001b[0m\u001b[0;34m,\u001b[0m \u001b[0ma\u001b[0m\u001b[0;34m=\u001b[0m\u001b[0;36m0\u001b[0m\u001b[0;34m,\u001b[0m \u001b[0mb\u001b[0m\u001b[0;34m=\u001b[0m\u001b[0;36m1\u001b[0m\u001b[0;34m,\u001b[0m \u001b[0margs\u001b[0m \u001b[0;34m=\u001b[0m \u001b[0;34m(\u001b[0m\u001b[0mrefs\u001b[0m\u001b[0;34m,\u001b[0m\u001b[0malts\u001b[0m\u001b[0;34m)\u001b[0m\u001b[0;34m,\u001b[0m \u001b[0mxtol\u001b[0m \u001b[0;34m=\u001b[0m \u001b[0;36m0.025\u001b[0m\u001b[0;34m)\u001b[0m\u001b[0;34m\u001b[0m\u001b[0m\n\u001b[0m\u001b[1;32m      9\u001b[0m     \u001b[0mfrequencies\u001b[0m\u001b[0;34m[\u001b[0m\u001b[0mi\u001b[0m\u001b[0;34m]\u001b[0m \u001b[0;34m=\u001b[0m \u001b[0mphat\u001b[0m\u001b[0;34m\u001b[0m\u001b[0m\n\u001b[1;32m     10\u001b[0m     \u001b[0mi\u001b[0m \u001b[0;34m+=\u001b[0m \u001b[0;36m1\u001b[0m\u001b[0;34m\u001b[0m\u001b[0m\n",
      "\u001b[0;32m~/anaconda3/envs/var/lib/python3.6/site-packages/scipy/optimize/zeros.py\u001b[0m in \u001b[0;36mbrentq\u001b[0;34m(f, a, b, args, xtol, rtol, maxiter, full_output, disp)\u001b[0m\n\u001b[1;32m    517\u001b[0m     \u001b[0;32mif\u001b[0m \u001b[0mrtol\u001b[0m \u001b[0;34m<\u001b[0m \u001b[0m_rtol\u001b[0m\u001b[0;34m:\u001b[0m\u001b[0;34m\u001b[0m\u001b[0m\n\u001b[1;32m    518\u001b[0m         \u001b[0;32mraise\u001b[0m \u001b[0mValueError\u001b[0m\u001b[0;34m(\u001b[0m\u001b[0;34m\"rtol too small (%g < %g)\"\u001b[0m \u001b[0;34m%\u001b[0m \u001b[0;34m(\u001b[0m\u001b[0mrtol\u001b[0m\u001b[0;34m,\u001b[0m \u001b[0m_rtol\u001b[0m\u001b[0;34m)\u001b[0m\u001b[0;34m)\u001b[0m\u001b[0;34m\u001b[0m\u001b[0m\n\u001b[0;32m--> 519\u001b[0;31m     \u001b[0mr\u001b[0m \u001b[0;34m=\u001b[0m \u001b[0m_zeros\u001b[0m\u001b[0;34m.\u001b[0m\u001b[0m_brentq\u001b[0m\u001b[0;34m(\u001b[0m\u001b[0mf\u001b[0m\u001b[0;34m,\u001b[0m\u001b[0ma\u001b[0m\u001b[0;34m,\u001b[0m\u001b[0mb\u001b[0m\u001b[0;34m,\u001b[0m\u001b[0mxtol\u001b[0m\u001b[0;34m,\u001b[0m\u001b[0mrtol\u001b[0m\u001b[0;34m,\u001b[0m\u001b[0mmaxiter\u001b[0m\u001b[0;34m,\u001b[0m\u001b[0margs\u001b[0m\u001b[0;34m,\u001b[0m\u001b[0mfull_output\u001b[0m\u001b[0;34m,\u001b[0m\u001b[0mdisp\u001b[0m\u001b[0;34m)\u001b[0m\u001b[0;34m\u001b[0m\u001b[0m\n\u001b[0m\u001b[1;32m    520\u001b[0m     \u001b[0;32mreturn\u001b[0m \u001b[0mresults_c\u001b[0m\u001b[0;34m(\u001b[0m\u001b[0mfull_output\u001b[0m\u001b[0;34m,\u001b[0m \u001b[0mr\u001b[0m\u001b[0;34m)\u001b[0m\u001b[0;34m\u001b[0m\u001b[0m\n\u001b[1;32m    521\u001b[0m \u001b[0;34m\u001b[0m\u001b[0m\n",
      "\u001b[0;31mValueError\u001b[0m: f(a) and f(b) must have different signs"
     ]
    }
   ],
   "source": [
    "i = 0\n",
    "for rec in vcf.fetch():\n",
    "    refs = np.zeros(len(samples))\n",
    "    alts = np.zeros(len(samples))\n",
    "    for s in range(len(samples)):\n",
    "        refs[s] = rec.samples[samples[s]][\"AD\"][0]\n",
    "        alts[s] = rec.samples[samples[s]][\"AD\"][1]\n",
    "    phat = optimize.brentq(compute_gradient, a=0, b=1, args = (refs,alts), xtol = 0.025)\n",
    "    frequencies[i] = phat\n",
    "    i += 1"
   ]
  },
  {
   "cell_type": "code",
   "execution_count": 9,
   "metadata": {},
   "outputs": [
    {
     "name": "stderr",
     "output_type": "stream",
     "text": [
      "/home/halasadi/anaconda3/envs/var/lib/python3.6/site-packages/ipykernel_launcher.py:7: RuntimeWarning: invalid value encountered in true_divide\n",
      "  import sys\n"
     ]
    }
   ],
   "source": [
    "PP = np.zeros(shape = (len(samples), nsnps, 3))\n",
    "for i in range(len(samples)):\n",
    "    for j in range(nsnps):\n",
    "        PP[i,j,0] = l[i,j,0] * np.power(1-frequencies[j], 2)\n",
    "        PP[i,j,1] = l[i,j,1] * 2 * frequencies[j] * (1 - frequencies[j])\n",
    "        PP[i,j,2] = l[i,j,2] * np.power(frequencies[j], 2)\n",
    "        PP[i,j,:] = PP[i,j,:] / PP[i,j,:].sum()"
   ]
  },
  {
   "cell_type": "code",
   "execution_count": 12,
   "metadata": {},
   "outputs": [
    {
     "name": "stdout",
     "output_type": "stream",
     "text": [
      "[-4.34511774e-04 -3.01029996e-01 -3.00000000e+00]\n"
     ]
    }
   ],
   "source": [
    "print(l[1,1,:])"
   ]
  },
  {
   "cell_type": "code",
   "execution_count": 13,
   "metadata": {},
   "outputs": [
    {
     "name": "stdout",
     "output_type": "stream",
     "text": [
      "[1.20614139e-04 1.67123084e-01 8.32756302e-01]\n"
     ]
    }
   ],
   "source": [
    "print(PP[1,1,:])"
   ]
  },
  {
   "cell_type": "code",
   "execution_count": 15,
   "metadata": {},
   "outputs": [],
   "source": [
    "%load_ext Cython"
   ]
  },
  {
   "cell_type": "code",
   "execution_count": null,
   "metadata": {},
   "outputs": [],
   "source": [
    "%%cython\n",
    "\n",
    "cimport cython\n",
    "import numpy as np\n",
    "cimport numpy as np\n",
    "\n",
    "@cython.boundscheck(False)\n",
    "@cython.wraparound(False)\n",
    "cpdef double compute_distance(int i, int j, double[:, :, :] P, double [:,:] mask):\n",
    "    cdef double d = 0.0\n",
    "    cdef int nsnps = P.shape[1]\n",
    "    cdef int l  = 0\n",
    "    cdef int k1 = 0\n",
    "    cdef int k2 = 0\n",
    "    for l in range(nsnps):\n",
    "        \n",
    "        if (mask[i,l]):\n",
    "            continue\n",
    "            \n",
    "        for k1 in [0,1,2]:\n",
    "            for k2 in [0,1,2]:\n",
    "                d += (k1-k2)*(k1-k2) * P[i, l, k1] * P[j, l, k2]\n",
    "                \n",
    "    return(d)"
   ]
  },
  {
   "cell_type": "code",
   "execution_count": null,
   "metadata": {},
   "outputs": [],
   "source": [
    "shape = (len(samples), nsnps)\n",
    "mask = np.ones(shape)\n",
    "\n",
    "D = np.zeros(shape = (len(samples), len(samples)))\n",
    "for i in range(len(samples)):\n",
    "    for j in range((i+1), len(samples)):\n",
    "            D[i,j] = compute_distance(i,j, P, mask)\n",
    "            D[j,i] = D[i,j]\n",
    "D = D / nsnps"
   ]
  }
 ],
 "metadata": {
  "kernelspec": {
   "display_name": "Python 3",
   "language": "python",
   "name": "python3"
  },
  "language_info": {
   "codemirror_mode": {
    "name": "ipython",
    "version": 3
   },
   "file_extension": ".py",
   "mimetype": "text/x-python",
   "name": "python",
   "nbconvert_exporter": "python",
   "pygments_lexer": "ipython3",
   "version": "3.6.4"
  }
 },
 "nbformat": 4,
 "nbformat_minor": 2
}
