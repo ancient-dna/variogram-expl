{
 "cells": [
  {
   "cell_type": "markdown",
   "metadata": {},
   "source": [
    "# Variogram exploration\n",
    "\n",
    "**authors:** Joseph Marcus, Hussein Al-Asadi"
   ]
  },
  {
   "cell_type": "markdown",
   "metadata": {},
   "source": [
    "## Project overview\n",
    "\n",
    "### Background\n",
    "\n",
    "* [Normal approximation](analysis/normal-approx.html) *Here we explore a computationally efficient Empircal Bayes for modeling low-coverage sequence data. We are uncertain this approach will work but will explore it as it provides a tractable path forward for including read-level emissions in our work.*\n",
    "\n",
    "### Simulations\n",
    "\n",
    "### EDA"
   ]
  },
  {
   "cell_type": "markdown",
   "metadata": {},
   "source": [
    "## Credits\n",
    "\n",
    "**ipynb website** was developed by:\n",
    "\n",
    "Peter Carbonetto and Gao Wang<br>\n",
    "Dept. of Human Genetics<br>\n",
    "University of Chicago<br>\n",
    "\n",
    "[John Blischak](https://github.com/jdblischak),\n",
    "[Matthew Stephens](http://stephenslab.uchicago.edu) and others have\n",
    "also contributed to the development of this software."
   ]
  },
  {
   "cell_type": "code",
   "execution_count": null,
   "metadata": {},
   "outputs": [],
   "source": []
  }
 ],
 "metadata": {
  "kernelspec": {
   "display_name": "Python 3",
   "language": "python",
   "name": "python3"
  },
  "language_info": {
   "codemirror_mode": {
    "name": "ipython",
    "version": 3
   },
   "file_extension": ".py",
   "mimetype": "text/x-python",
   "name": "python",
   "nbconvert_exporter": "python",
   "pygments_lexer": "ipython3",
   "version": "3.6.4"
  }
 },
 "nbformat": 4,
 "nbformat_minor": 2
}
